{
 "cells": [
  {
   "cell_type": "code",
   "execution_count": 1,
   "metadata": {},
   "outputs": [],
   "source": [
    "from sklearn.datasets import fetch_openml"
   ]
  },
  {
   "cell_type": "code",
   "execution_count": 2,
   "metadata": {},
   "outputs": [],
   "source": [
    "mnist = fetch_openml(\"mnist_784\")"
   ]
  },
  {
   "cell_type": "code",
   "execution_count": 3,
   "metadata": {},
   "outputs": [],
   "source": [
    "x,y=mnist['data'],mnist['target']"
   ]
  },
  {
   "cell_type": "code",
   "execution_count": 4,
   "metadata": {},
   "outputs": [],
   "source": [
    "%matplotlib inline\n",
    "import matplotlib\n",
    "import matplotlib.pyplot as plt"
   ]
  },
  {
   "cell_type": "code",
   "execution_count": 5,
   "metadata": {},
   "outputs": [],
   "source": [
    "somedigit=x[301]\n",
    "somedigit_img=somedigit.reshape(28,28)"
   ]
  },
  {
   "cell_type": "code",
   "execution_count": 6,
   "metadata": {},
   "outputs": [
    {
     "data": {
      "text/plain": [
       "<matplotlib.image.AxesImage at 0x11c582c8>"
      ]
     },
     "execution_count": 6,
     "metadata": {},
     "output_type": "execute_result"
    },
    {
     "data": {
      "image/png": "[encoded data removed]",
      "text/plain": [
       "<Figure size 432x288 with 1 Axes>"
      ]
     },
     "metadata": {
      "needs_background": "light"
     },
     "output_type": "display_data"
    }
   ],
   "source": [
    "plt.imshow(somedigit_img,cmap=matplotlib.cm.binary,interpolation=\"nearest\")\n",
    "#plt.axis(\"off\")"
   ]
  },
  {
   "cell_type": "code",
   "execution_count": 7,
   "metadata": {},
   "outputs": [
    {
     "data": {
      "text/plain": [
       "'7'"
      ]
     },
     "execution_count": 7,
     "metadata": {},
     "output_type": "execute_result"
    }
   ],
   "source": [
    "y[301]"
   ]
  },
  {
   "cell_type": "code",
   "execution_count": 8,
   "metadata": {},
   "outputs": [],
   "source": [
    "x_train,x_test=x[:6000],x[6000:7000]\n",
    "y_train,y_test=y[:6000],y[6000:7000]\n"
   ]
  },
  {
   "cell_type": "code",
   "execution_count": 9,
   "metadata": {},
   "outputs": [],
   "source": [
    "import numpy as np\n",
    "shuffle_index = np.random.permutation(6000)\n",
    "x_train,ytrain=x_train[shuffle_index],y_train[shuffle_index]\n"
   ]
  },
  {
   "cell_type": "code",
   "execution_count": 10,
   "metadata": {},
   "outputs": [],
   "source": [
    "from sklearn.svm import LinearSVC"
   ]
  },
  {
   "cell_type": "code",
   "execution_count": 11,
   "metadata": {},
   "outputs": [
    {
     "name": "stderr",
     "output_type": "stream",
     "text": [
      "C:\\Users\\matt\\Anaconda3\\lib\\site-packages\\sklearn\\svm\\base.py:929: ConvergenceWarning: Liblinear failed to converge, increase the number of iterations.\n",
      "  \"the number of iterations.\", ConvergenceWarning)\n"
     ]
    },
    {
     "data": {
      "text/plain": [
       "LinearSVC(C=1.0, class_weight=None, dual=True, fit_intercept=True,\n",
       "          intercept_scaling=1, loss='squared_hinge', max_iter=1000,\n",
       "          multi_class='ovr', penalty='l2', random_state=None, tol=0.0001,\n",
       "          verbose=0)"
      ]
     },
     "execution_count": 11,
     "metadata": {},
     "output_type": "execute_result"
    }
   ],
   "source": [
    "model=LinearSVC()\n",
    "model.fit(x_train,y_train)"
   ]
  },
  {
   "cell_type": "code",
   "execution_count": 12,
   "metadata": {},
   "outputs": [
    {
     "data": {
      "text/plain": [
       "array(['9', '6', '9', '1', '7', '9', '9', '9', '7', '9', '9', '1', '2',\n",
       "       '2', '9', '9', '9', '9', '2', '9', '1', '9', '9', '4', '9', '9',\n",
       "       '4', '9', '9', '4', '1', '9', '9', '9', '7', '9', '9', '0', '7',\n",
       "       '2', '6', '9', '3', '9', '3', '9', '9', '9', '5', '9', '9', '9',\n",
       "       '1', '1', '9', '9', '2', '9', '9', '9', '9', '9', '1', '9', '1',\n",
       "       '4', '5', '9', '8', '9', '1', '9', '1', '8', '9', '1', '9', '6',\n",
       "       '9', '9', '5', '9', '5', '9', '9', '9', '9', '1', '4', '6', '2',\n",
       "       '1', '7', '9', '9', '2', '1', '8', '5', '9', '9', '5', '9', '9',\n",
       "       '1', '9', '9', '9', '9', '9', '1', '9', '8', '9', '9', '9', '8',\n",
       "       '3', '7', '2', '3', '9', '1', '9', '9', '2', '9', '9', '7', '9',\n",
       "       '1', '9', '1', '2', '1', '1', '1', '1', '5', '2', '4', '9', '1',\n",
       "       '7', '9', '9', '7', '9', '9', '9', '3', '6', '9', '9', '1', '9',\n",
       "       '9', '9', '2', '2', '9', '9', '7', '9', '9', '1', '9', '4', '9',\n",
       "       '9', '9', '6', '9', '1', '9', '9', '4', '1', '9', '4', '8', '1',\n",
       "       '9', '1', '9', '9', '1', '9', '8', '3', '2', '9', '9', '4', '9',\n",
       "       '6', '1', '1', '9', '9', '1', '9', '9', '9', '9', '9', '9', '3',\n",
       "       '9', '1', '2', '9', '9', '6', '9', '3', '6', '9', '9', '9', '9',\n",
       "       '9', '7', '9', '1', '9', '9', '4', '2', '9', '9', '9', '1', '6',\n",
       "       '9', '9', '9', '9', '7', '9', '2', '9', '9', '7', '1', '4', '6',\n",
       "       '9', '9', '9', '1', '9', '5', '3', '1', '3', '2', '4', '3', '9',\n",
       "       '1', '9', '9', '9', '1', '9', '2', '9', '2', '2', '9', '9', '9',\n",
       "       '9', '9', '9', '5', '1', '1', '9', '9', '9', '9', '9', '2', '9',\n",
       "       '9', '9', '5', '9', '9', '9', '4', '9', '9', '9', '7', '9', '5',\n",
       "       '9', '9', '9', '7', '9', '5', '6', '9', '9', '9', '9', '1', '1',\n",
       "       '9', '2', '2', '9', '8', '9', '1', '9', '9', '9', '9', '2', '7',\n",
       "       '3', '9', '9', '1', '9', '7', '9', '7', '8', '9', '9', '7', '4',\n",
       "       '9', '9', '9', '4', '5', '3', '4', '9', '4', '9', '3', '9', '9',\n",
       "       '9', '7', '9', '2', '9', '9', '5', '9', '9', '9', '1', '3', '2',\n",
       "       '9', '1', '1', '4', '9', '1', '9', '9', '1', '9', '9', '9', '9',\n",
       "       '9', '9', '9', '1', '9', '9', '9', '1', '6', '4', '9', '9', '5',\n",
       "       '9', '9', '2', '9', '7', '1', '9', '9', '7', '2', '7', '9', '9',\n",
       "       '9', '9', '9', '7', '2', '1', '4', '9', '1', '9', '1', '9', '9',\n",
       "       '1', '9', '9', '1', '2', '3', '7', '1', '5', '7', '9', '9', '9',\n",
       "       '9', '2', '6', '1', '2', '9', '8', '1', '9', '9', '1', '9', '5',\n",
       "       '2', '1', '5', '9', '2', '7', '9', '9', '9', '6', '2', '2', '9',\n",
       "       '9', '9', '4', '1', '1', '8', '6', '2', '1', '1', '7', '5', '9',\n",
       "       '2', '9', '9', '6', '7', '9', '5', '1', '0', '9', '4', '9', '5',\n",
       "       '9', '9', '9', '5', '1', '9', '1', '1', '9', '9', '9', '4', '7',\n",
       "       '9', '9', '3', '9', '7', '9', '7', '1', '7', '4', '9', '9', '9',\n",
       "       '8', '7', '4', '4', '9', '9', '4', '9', '7', '9', '2', '9', '9',\n",
       "       '9', '1', '9', '9', '9', '4', '3', '2', '9', '7', '1', '9', '9',\n",
       "       '9', '9', '4', '3', '1', '7', '9', '7', '9', '9', '7', '9', '7',\n",
       "       '6', '9', '9', '7', '9', '9', '9', '4', '9', '4', '9', '9', '1',\n",
       "       '9', '9', '9', '4', '1', '9', '9', '9', '9', '8', '1', '1', '9',\n",
       "       '9', '9', '2', '1', '9', '9', '9', '9', '4', '9', '9', '1', '2',\n",
       "       '9', '9', '9', '9', '9', '9', '9', '9', '4', '9', '7', '2', '9',\n",
       "       '8', '9', '9', '9', '8', '6', '4', '1', '5', '3', '3', '1', '2',\n",
       "       '7', '9', '9', '7', '3', '9', '9', '4', '5', '7', '1', '9', '9',\n",
       "       '2', '9', '3', '9', '1', '3', '4', '9', '9', '9', '8', '9', '1',\n",
       "       '9', '9', '2', '1', '9', '1', '9', '9', '2', '9', '1', '7', '9',\n",
       "       '9', '9', '2', '9', '1', '7', '9', '4', '7', '7', '9', '9', '7',\n",
       "       '9', '7', '1', '1', '7', '9', '9', '2', '5', '9', '4', '9', '9',\n",
       "       '2', '9', '1', '9', '9', '7', '1', '1', '2', '9', '9', '9', '5',\n",
       "       '9', '9', '7', '2', '2', '9', '9', '7', '7', '1', '9', '7', '1',\n",
       "       '8', '9', '7', '6', '4', '1', '8', '9', '9', '9', '8', '1', '9',\n",
       "       '6', '9', '9', '1', '9', '9', '4', '9', '7', '9', '9', '7', '4',\n",
       "       '9', '9', '9', '5', '5', '9', '9', '9', '1', '4', '7', '9', '9',\n",
       "       '9', '2', '1', '2', '1', '1', '1', '9', '6', '7', '9', '9', '9',\n",
       "       '7', '3', '9', '9', '5', '9', '9', '9', '9', '4', '2', '9', '9',\n",
       "       '9', '9', '9', '1', '1', '2', '6', '1', '1', '9', '9', '9', '9',\n",
       "       '0', '1', '9', '9', '6', '5', '9', '9', '2', '6', '9', '7', '8',\n",
       "       '1', '9', '9', '9', '9', '7', '6', '5', '1', '2', '9', '2', '9',\n",
       "       '2', '6', '8', '7', '9', '9', '9', '9', '9', '9', '9', '1', '9',\n",
       "       '6', '9', '4', '1', '4', '3', '9', '9', '7', '4', '1', '9', '9',\n",
       "       '9', '9', '1', '9', '9', '5', '9', '1', '9', '4', '7', '9', '9',\n",
       "       '9', '5', '4', '8', '6', '9', '9', '2', '6', '5', '6', '9', '7',\n",
       "       '1', '9', '4', '7', '5', '1', '9', '9', '9', '9', '9', '9', '1',\n",
       "       '9', '9', '7', '9', '4', '9', '1', '9', '0', '1', '9', '9', '3',\n",
       "       '9', '9', '1', '9', '9', '5', '5', '9', '9', '2', '1', '3', '9',\n",
       "       '9', '1', '3', '1', '9', '1', '9', '1', '4', '9', '9', '9', '9',\n",
       "       '1', '7', '6', '1', '9', '9', '9', '9', '0', '9', '7', '3', '9',\n",
       "       '3', '5', '9', '9', '4', '7', '1', '9', '1', '9', '9', '8', '9',\n",
       "       '7', '9', '9', '9', '9', '7', '6', '1', '1', '9', '1', '9', '8',\n",
       "       '2', '9', '9', '9', '4', '4', '9', '5', '7', '9', '4', '2', '9',\n",
       "       '9', '9', '9', '9', '7', '4', '3', '1', '2', '9', '5', '9', '9',\n",
       "       '9', '9', '1', '7', '9', '5', '1', '9', '1', '9', '9', '7', '7',\n",
       "       '2', '1', '2', '4', '2', '9', '2', '9', '9', '6', '1', '9'],\n",
       "      dtype=object)"
      ]
     },
     "execution_count": 12,
     "metadata": {},
     "output_type": "execute_result"
    }
   ],
   "source": [
    "model.predict(x_test)"
   ]
  },
  {
   "cell_type": "code",
   "execution_count": 13,
   "metadata": {},
   "outputs": [
    {
     "name": "stderr",
     "output_type": "stream",
     "text": [
      "C:\\Users\\matt\\Anaconda3\\lib\\site-packages\\sklearn\\svm\\base.py:929: ConvergenceWarning: Liblinear failed to converge, increase the number of iterations.\n",
      "  \"the number of iterations.\", ConvergenceWarning)\n",
      "C:\\Users\\matt\\Anaconda3\\lib\\site-packages\\sklearn\\svm\\base.py:929: ConvergenceWarning: Liblinear failed to converge, increase the number of iterations.\n",
      "  \"the number of iterations.\", ConvergenceWarning)\n",
      "C:\\Users\\matt\\Anaconda3\\lib\\site-packages\\sklearn\\svm\\base.py:929: ConvergenceWarning: Liblinear failed to converge, increase the number of iterations.\n",
      "  \"the number of iterations.\", ConvergenceWarning)\n"
     ]
    }
   ],
   "source": [
    "from sklearn.model_selection import cross_val_score\n",
    "a=cross_val_score(model,x_train,y_train,cv=3,scoring='accuracy')"
   ]
  },
  {
   "cell_type": "code",
   "execution_count": 14,
   "metadata": {},
   "outputs": [
    {
     "data": {
      "text/plain": [
       "0.10032826659922033"
      ]
     },
     "execution_count": 14,
     "metadata": {},
     "output_type": "execute_result"
    }
   ],
   "source": [
    "a.mean()"
   ]
  },
  {
   "cell_type": "code",
   "execution_count": null,
   "metadata": {},
   "outputs": [],
   "source": []
  }
 ],
 "metadata": {
  "kernelspec": {
   "display_name": "Python 3",
   "language": "python",
   "name": "python3"
  },
  "language_info": {
   "codemirror_mode": {
    "name": "ipython",
    "version": 3
   },
   "file_extension": ".py",
   "mimetype": "text/x-python",
   "name": "python",
   "nbconvert_exporter": "python",
   "pygments_lexer": "ipython3",
   "version": "3.7.4"
  }
 },
 "nbformat": 4,
 "nbformat_minor": 2
}
